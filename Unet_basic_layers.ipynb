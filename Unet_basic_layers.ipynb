{
  "nbformat": 4,
  "nbformat_minor": 0,
  "metadata": {
    "colab": {
      "name": "Unet_basic_layers.ipynb",
      "provenance": [],
      "collapsed_sections": []
    },
    "kernelspec": {
      "name": "python3",
      "display_name": "Python 3"
    }
  },
  "cells": [
    {
      "cell_type": "code",
      "metadata": {
        "id": "La-kO_Njz4x4",
        "colab_type": "code",
        "colab": {
          "base_uri": "https://localhost:8080/",
          "height": 34
        },
        "outputId": "17ea7e4b-4d45-4919-c561-603a5c01d2d0"
      },
      "source": [
        "import keras\n",
        "from tensorflow.keras import layers\n",
        "import tensorflow as tf\n",
        "import numpy as np\n",
        "from tensorflow import keras\n",
        "from tensorflow.keras import layers\n",
        "input=keras.Input((572,572,3)) # this layer is in core layer of keras documentation\n",
        "print(input.shape)"
      ],
      "execution_count": 57,
      "outputs": [
        {
          "output_type": "stream",
          "text": [
            "(None, 572, 572, 3)\n"
          ],
          "name": "stdout"
        }
      ]
    },
    {
      "cell_type": "code",
      "metadata": {
        "id": "z7d-ONPr1erh",
        "colab_type": "code",
        "colab": {
          "base_uri": "https://localhost:8080/",
          "height": 34
        },
        "outputId": "ac824d78-241a-4432-84c1-be7fd1cb0dae"
      },
      "source": [
        "x=input\n",
        "C1= tf.keras.layers.Conv2D(64, 3, activation='relu')(x)\n",
        "print(C1.shape)"
      ],
      "execution_count": 58,
      "outputs": [
        {
          "output_type": "stream",
          "text": [
            "(None, 570, 570, 64)\n"
          ],
          "name": "stdout"
        }
      ]
    },
    {
      "cell_type": "code",
      "metadata": {
        "id": "lNDahDyB130w",
        "colab_type": "code",
        "colab": {
          "base_uri": "https://localhost:8080/",
          "height": 34
        },
        "outputId": "41b9bf83-2ed2-48b8-f936-6f8ace0f4c10"
      },
      "source": [
        "C2= tf.keras.layers.Conv2D(64, 3, activation='relu')(C1)\n",
        "print(C2.shape)"
      ],
      "execution_count": 59,
      "outputs": [
        {
          "output_type": "stream",
          "text": [
            "(None, 568, 568, 64)\n"
          ],
          "name": "stdout"
        }
      ]
    },
    {
      "cell_type": "code",
      "metadata": {
        "id": "9N7inHfb1_7Q",
        "colab_type": "code",
        "colab": {
          "base_uri": "https://localhost:8080/",
          "height": 34
        },
        "outputId": "75e261bf-fa02-42f8-8597-ceeeab71ec56"
      },
      "source": [
        "Pool1=tf.keras.layers.MaxPool2D(pool_size=(2,2),padding='valid')(C2)\n",
        "print(Pool1.shape)\n"
      ],
      "execution_count": 60,
      "outputs": [
        {
          "output_type": "stream",
          "text": [
            "(None, 284, 284, 64)\n"
          ],
          "name": "stdout"
        }
      ]
    },
    {
      "cell_type": "code",
      "metadata": {
        "id": "SVXIYLf52Edo",
        "colab_type": "code",
        "colab": {
          "base_uri": "https://localhost:8080/",
          "height": 34
        },
        "outputId": "196cea70-e42a-4b26-aefa-95c3e759cf5f"
      },
      "source": [
        "P_C1=tf.keras.layers.Conv2D(128,3,activation='relu')(Pool1)\n",
        "print(P_C1.shape)\n"
      ],
      "execution_count": 61,
      "outputs": [
        {
          "output_type": "stream",
          "text": [
            "(None, 282, 282, 128)\n"
          ],
          "name": "stdout"
        }
      ]
    },
    {
      "cell_type": "code",
      "metadata": {
        "id": "seFbWbjk2HSQ",
        "colab_type": "code",
        "colab": {
          "base_uri": "https://localhost:8080/",
          "height": 34
        },
        "outputId": "ad4d2663-b419-496b-af1f-f2660004e6a5"
      },
      "source": [
        "P_C2=tf.keras.layers.Conv2D(128,3,activation='relu')(P_C1)\n",
        "print(P_C2.shape)\n"
      ],
      "execution_count": 62,
      "outputs": [
        {
          "output_type": "stream",
          "text": [
            "(None, 280, 280, 128)\n"
          ],
          "name": "stdout"
        }
      ]
    },
    {
      "cell_type": "code",
      "metadata": {
        "id": "MMn8jjsY2NYs",
        "colab_type": "code",
        "colab": {
          "base_uri": "https://localhost:8080/",
          "height": 34
        },
        "outputId": "1b7435cc-f286-482f-8b67-f56491daa0b0"
      },
      "source": [
        "P2=tf.keras.layers.MaxPool2D(pool_size=(2,2),padding='valid')(P_C2)\n",
        "print(P2.shape)\n"
      ],
      "execution_count": 63,
      "outputs": [
        {
          "output_type": "stream",
          "text": [
            "(None, 140, 140, 128)\n"
          ],
          "name": "stdout"
        }
      ]
    },
    {
      "cell_type": "code",
      "metadata": {
        "id": "Owypvj872Z62",
        "colab_type": "code",
        "colab": {
          "base_uri": "https://localhost:8080/",
          "height": 34
        },
        "outputId": "363e0917-1ddc-4a33-fe0f-23030b57dea3"
      },
      "source": [
        "P2_C1=tf.keras.layers.Conv2D(256,3,activation='relu')(P2)\n",
        "print(P2_C1.shape)"
      ],
      "execution_count": 64,
      "outputs": [
        {
          "output_type": "stream",
          "text": [
            "(None, 138, 138, 256)\n"
          ],
          "name": "stdout"
        }
      ]
    },
    {
      "cell_type": "code",
      "metadata": {
        "id": "m3gHREWh2dJJ",
        "colab_type": "code",
        "colab": {
          "base_uri": "https://localhost:8080/",
          "height": 34
        },
        "outputId": "a20819ac-6341-48a6-fb4a-6507224ea4de"
      },
      "source": [
        "P2_C2=tf.keras.layers.Conv2D(256,3,activation='relu')(P2_C1)\n",
        "print(P2_C2.shape)"
      ],
      "execution_count": 65,
      "outputs": [
        {
          "output_type": "stream",
          "text": [
            "(None, 136, 136, 256)\n"
          ],
          "name": "stdout"
        }
      ]
    },
    {
      "cell_type": "code",
      "metadata": {
        "id": "SNVG5TBU2oAf",
        "colab_type": "code",
        "colab": {
          "base_uri": "https://localhost:8080/",
          "height": 34
        },
        "outputId": "40a57355-5b63-4553-e10b-736445c24288"
      },
      "source": [
        "P3=tf.keras.layers.MaxPool2D(pool_size=(2,2),padding='valid')(P2_C2)\n",
        "print(P3.shape)"
      ],
      "execution_count": 66,
      "outputs": [
        {
          "output_type": "stream",
          "text": [
            "(None, 68, 68, 256)\n"
          ],
          "name": "stdout"
        }
      ]
    },
    {
      "cell_type": "code",
      "metadata": {
        "id": "OUtRLFnh2r6Z",
        "colab_type": "code",
        "colab": {
          "base_uri": "https://localhost:8080/",
          "height": 34
        },
        "outputId": "732f129a-1c61-4141-ffed-2aac64985938"
      },
      "source": [
        "P3_C1=tf.keras.layers.Conv2D(512,3,activation='relu')(P3)\n",
        "print(P3_C1.shape)"
      ],
      "execution_count": 67,
      "outputs": [
        {
          "output_type": "stream",
          "text": [
            "(None, 66, 66, 512)\n"
          ],
          "name": "stdout"
        }
      ]
    },
    {
      "cell_type": "code",
      "metadata": {
        "id": "sHwE4SwC2tzi",
        "colab_type": "code",
        "colab": {
          "base_uri": "https://localhost:8080/",
          "height": 34
        },
        "outputId": "db27708b-3931-41f1-8a0b-6797bd4fc66c"
      },
      "source": [
        "P3_C2=tf.keras.layers.Conv2D(512,3,activation='relu')(P3_C1)\n",
        "print(P3_C2.shape)"
      ],
      "execution_count": 68,
      "outputs": [
        {
          "output_type": "stream",
          "text": [
            "(None, 64, 64, 512)\n"
          ],
          "name": "stdout"
        }
      ]
    },
    {
      "cell_type": "code",
      "metadata": {
        "id": "1n7l1QA22xvS",
        "colab_type": "code",
        "colab": {
          "base_uri": "https://localhost:8080/",
          "height": 34
        },
        "outputId": "f1c6f8db-9cd4-4944-813a-6e2fd9f84e1a"
      },
      "source": [
        "P4=tf.keras.layers.MaxPool2D(pool_size=(2,2),padding='valid')(P3_C2)\n",
        "print(P4.shape)"
      ],
      "execution_count": 69,
      "outputs": [
        {
          "output_type": "stream",
          "text": [
            "(None, 32, 32, 512)\n"
          ],
          "name": "stdout"
        }
      ]
    },
    {
      "cell_type": "code",
      "metadata": {
        "id": "3GG8DyFy2x0r",
        "colab_type": "code",
        "colab": {
          "base_uri": "https://localhost:8080/",
          "height": 34
        },
        "outputId": "0ba2a111-13bc-4cd7-bcc9-336b10d5a28f"
      },
      "source": [
        "P4_C1=tf.keras.layers.Conv2D(1024,3, activation='relu')(P4)\n",
        "print(P4_C1.shape)"
      ],
      "execution_count": 70,
      "outputs": [
        {
          "output_type": "stream",
          "text": [
            "(None, 30, 30, 1024)\n"
          ],
          "name": "stdout"
        }
      ]
    },
    {
      "cell_type": "code",
      "metadata": {
        "id": "S4T30tfb2x3x",
        "colab_type": "code",
        "colab": {
          "base_uri": "https://localhost:8080/",
          "height": 34
        },
        "outputId": "80c5c1a8-3d22-441e-d2dd-16a6c7fe4a1f"
      },
      "source": [
        "P4_C2=tf.keras.layers.Conv2D(1024,3, activation='relu')(P4_C1)\n",
        "print(P4_C2.shape)"
      ],
      "execution_count": 71,
      "outputs": [
        {
          "output_type": "stream",
          "text": [
            "(None, 28, 28, 1024)\n"
          ],
          "name": "stdout"
        }
      ]
    },
    {
      "cell_type": "code",
      "metadata": {
        "id": "salJdkyX7ueL",
        "colab_type": "code",
        "colab": {}
      },
      "source": [
        "#https://www.kaggle.com/cjansen/u-net-in-keras\n",
        "def get_crop_shape(target, refer):\n",
        "        # width, the 3rd dimension\n",
        "        cw = (target.get_shape()[2] - refer.get_shape()[2])\n",
        "        assert (cw >= 0)\n",
        "        if cw % 2 != 0:\n",
        "            cw1, cw2 = int(cw/2), int(cw/2) + 1\n",
        "        else:\n",
        "            cw1, cw2 = int(cw/2), int(cw/2)\n",
        "        # height, the 2nd dimension\n",
        "        ch = (target.get_shape()[1] - refer.get_shape()[1])\n",
        "        assert (ch >= 0)\n",
        "        if ch % 2 != 0:\n",
        "            ch1, ch2 = int(ch/2), int(ch/2) + 1\n",
        "        else:\n",
        "            ch1, ch2 = int(ch/2), int(ch/2)\n",
        "\n",
        "        return (ch1, ch2), (cw1, cw2)"
      ],
      "execution_count": 0,
      "outputs": []
    },
    {
      "cell_type": "code",
      "metadata": {
        "id": "NC1Ft4kO7wHq",
        "colab_type": "code",
        "colab": {}
      },
      "source": [
        "ch, cw = get_crop_shape(P3_C2, Up_1)"
      ],
      "execution_count": 0,
      "outputs": []
    },
    {
      "cell_type": "code",
      "metadata": {
        "id": "xQIGkWeG3tbx",
        "colab_type": "code",
        "colab": {
          "base_uri": "https://localhost:8080/",
          "height": 34
        },
        "outputId": "00a97958-063d-4678-d6f1-cb772c980b3c"
      },
      "source": [
        "Up_1 = tf.keras.layers.Conv2DTranspose(512, (2, 2), strides=(2, 2), padding='same') (P4_C2)\n",
        "print(Up_1.shape)"
      ],
      "execution_count": 75,
      "outputs": [
        {
          "output_type": "stream",
          "text": [
            "(None, 56, 56, 512)\n"
          ],
          "name": "stdout"
        }
      ]
    },
    {
      "cell_type": "code",
      "metadata": {
        "id": "702WjKNK7F1V",
        "colab_type": "code",
        "colab": {
          "base_uri": "https://localhost:8080/",
          "height": 34
        },
        "outputId": "a1f0c62d-255a-49a0-9270-5de3247f4d7c"
      },
      "source": [
        "ch, cw = get_crop_shape(P3_C2, Up_1)\n",
        "crop_P3_C2 = tf.keras.layers.Cropping2D(cropping=(ch,cw))(P3_C2)\n",
        "print(crop_P3_C2.shape)"
      ],
      "execution_count": 76,
      "outputs": [
        {
          "output_type": "stream",
          "text": [
            "(None, 56, 56, 512)\n"
          ],
          "name": "stdout"
        }
      ]
    },
    {
      "cell_type": "code",
      "metadata": {
        "id": "OvWE5tum8JmN",
        "colab_type": "code",
        "colab": {
          "base_uri": "https://localhost:8080/",
          "height": 34
        },
        "outputId": "4f6e2cfe-5a1b-4550-cfe9-598c3ad845a5"
      },
      "source": [
        "ConCat1=tf.keras.layers.Concatenate()([Up_1,crop_P3_C2])\n",
        "print(ConCat1.shape)"
      ],
      "execution_count": 77,
      "outputs": [
        {
          "output_type": "stream",
          "text": [
            "(None, 56, 56, 1024)\n"
          ],
          "name": "stdout"
        }
      ]
    },
    {
      "cell_type": "code",
      "metadata": {
        "id": "7-WOtMsE9CVE",
        "colab_type": "code",
        "colab": {
          "base_uri": "https://localhost:8080/",
          "height": 34
        },
        "outputId": "5f5d7608-78da-4c05-d4c5-82e98a092dd6"
      },
      "source": [
        "Up1_C1=tf.keras.layers.Conv2D(512,3,activation='relu')(ConCat1)\n",
        "print(Up1_C1.shape)"
      ],
      "execution_count": 81,
      "outputs": [
        {
          "output_type": "stream",
          "text": [
            "(None, 54, 54, 512)\n"
          ],
          "name": "stdout"
        }
      ]
    },
    {
      "cell_type": "code",
      "metadata": {
        "id": "rerbfRli9K5D",
        "colab_type": "code",
        "colab": {
          "base_uri": "https://localhost:8080/",
          "height": 34
        },
        "outputId": "a82ec410-82c3-4dd4-97f1-5a9f8cfff05a"
      },
      "source": [
        "Up1_C2=tf.keras.layers.Conv2D(512,3,activation='relu')(Up1_C1)\n",
        "print(Up1_C2.shape)"
      ],
      "execution_count": 82,
      "outputs": [
        {
          "output_type": "stream",
          "text": [
            "(None, 52, 52, 512)\n"
          ],
          "name": "stdout"
        }
      ]
    },
    {
      "cell_type": "code",
      "metadata": {
        "id": "kDpYWUqY8eFa",
        "colab_type": "code",
        "colab": {
          "base_uri": "https://localhost:8080/",
          "height": 34
        },
        "outputId": "0b37760e-7b31-4448-c819-25957e9f8545"
      },
      "source": [
        "up_2=tf.keras.layers.Conv2DTranspose(256,(2,2),strides=(2,2),padding='same')(Up1_C2)\n",
        "print(up_2.shape)"
      ],
      "execution_count": 83,
      "outputs": [
        {
          "output_type": "stream",
          "text": [
            "(None, 104, 104, 256)\n"
          ],
          "name": "stdout"
        }
      ]
    },
    {
      "cell_type": "code",
      "metadata": {
        "id": "5tdxd6FP8q1K",
        "colab_type": "code",
        "colab": {
          "base_uri": "https://localhost:8080/",
          "height": 34
        },
        "outputId": "6f0b23e1-7ff0-4e32-e8c4-8aa239861377"
      },
      "source": [
        "ch, cw = get_crop_shape(P2_C2, up_2)\n",
        "crop_P2_C2 = tf.keras.layers.Cropping2D(cropping=(ch,cw))(P2_C2)\n",
        "print(crop_P2_C2.shape)"
      ],
      "execution_count": 84,
      "outputs": [
        {
          "output_type": "stream",
          "text": [
            "(None, 104, 104, 256)\n"
          ],
          "name": "stdout"
        }
      ]
    },
    {
      "cell_type": "code",
      "metadata": {
        "id": "4IUomaGe9Wm9",
        "colab_type": "code",
        "colab": {
          "base_uri": "https://localhost:8080/",
          "height": 34
        },
        "outputId": "5b42f3bf-0227-43ea-97f4-84a2bc3c705d"
      },
      "source": [
        "ConCat2=tf.keras.layers.Concatenate()([up_2,crop_P2_C2])\n",
        "print(ConCat2.shape)"
      ],
      "execution_count": 85,
      "outputs": [
        {
          "output_type": "stream",
          "text": [
            "(None, 104, 104, 512)\n"
          ],
          "name": "stdout"
        }
      ]
    },
    {
      "cell_type": "code",
      "metadata": {
        "id": "-JZrC5MZ94AQ",
        "colab_type": "code",
        "colab": {
          "base_uri": "https://localhost:8080/",
          "height": 34
        },
        "outputId": "b81aacc1-00a0-4b3b-937a-a2bcfab2c43e"
      },
      "source": [
        "Up2_c1=tf.keras.layers.Conv2D(256,3, activation='relu')(ConCat2)\n",
        "print(Up2_c1.shape)\n"
      ],
      "execution_count": 86,
      "outputs": [
        {
          "output_type": "stream",
          "text": [
            "(None, 102, 102, 256)\n"
          ],
          "name": "stdout"
        }
      ]
    },
    {
      "cell_type": "code",
      "metadata": {
        "id": "TodVBw-Y96lb",
        "colab_type": "code",
        "colab": {
          "base_uri": "https://localhost:8080/",
          "height": 34
        },
        "outputId": "89cb7b2f-e2a6-4fc7-8083-653e3a79fe5f"
      },
      "source": [
        "Up2_c2=tf.keras.layers.Conv2D(256,3, activation='relu')(Up2_c1)\n",
        "print(Up2_c2.shape)"
      ],
      "execution_count": 87,
      "outputs": [
        {
          "output_type": "stream",
          "text": [
            "(None, 100, 100, 256)\n"
          ],
          "name": "stdout"
        }
      ]
    },
    {
      "cell_type": "code",
      "metadata": {
        "id": "jUYS3c399_dh",
        "colab_type": "code",
        "colab": {
          "base_uri": "https://localhost:8080/",
          "height": 34
        },
        "outputId": "df3c31f0-7397-4767-c655-34fa2945dc77"
      },
      "source": [
        "up_3=tf.keras.layers.Conv2DTranspose(128,kernel_size=(2,2),strides=(2,2),padding='same')(Up2_c2)\n",
        "print(up_3.shape)"
      ],
      "execution_count": 88,
      "outputs": [
        {
          "output_type": "stream",
          "text": [
            "(None, 200, 200, 128)\n"
          ],
          "name": "stdout"
        }
      ]
    },
    {
      "cell_type": "code",
      "metadata": {
        "id": "njMbpZVb-inL",
        "colab_type": "code",
        "colab": {
          "base_uri": "https://localhost:8080/",
          "height": 34
        },
        "outputId": "74a99b9a-0c29-4c9b-f245-2ddf412e7b17"
      },
      "source": [
        "ch, cw = get_crop_shape(P_C2, up_3)\n",
        "crop_P_C2 = tf.keras.layers.Cropping2D(cropping=(ch,cw))(P_C2)\n",
        "print(crop_P_C2.shape)"
      ],
      "execution_count": 89,
      "outputs": [
        {
          "output_type": "stream",
          "text": [
            "(None, 200, 200, 128)\n"
          ],
          "name": "stdout"
        }
      ]
    },
    {
      "cell_type": "code",
      "metadata": {
        "id": "0t-qhE0q-qHE",
        "colab_type": "code",
        "colab": {
          "base_uri": "https://localhost:8080/",
          "height": 34
        },
        "outputId": "8c43584f-5419-45b3-8a7f-8d37249407f1"
      },
      "source": [
        "ConCat3=tf.keras.layers.Concatenate()([up_3,crop_P_C2])\n",
        "print(ConCat3.shape)"
      ],
      "execution_count": 90,
      "outputs": [
        {
          "output_type": "stream",
          "text": [
            "(None, 200, 200, 256)\n"
          ],
          "name": "stdout"
        }
      ]
    },
    {
      "cell_type": "code",
      "metadata": {
        "id": "eB35rytA-sfB",
        "colab_type": "code",
        "colab": {
          "base_uri": "https://localhost:8080/",
          "height": 34
        },
        "outputId": "c04b12f0-056c-4316-d6ff-eaae35f504ed"
      },
      "source": [
        "Up3_c1=tf.keras.layers.Conv2D(128,3,activation='relu')(ConCat3)\n",
        "print(Up3_c1.shape)"
      ],
      "execution_count": 91,
      "outputs": [
        {
          "output_type": "stream",
          "text": [
            "(None, 198, 198, 128)\n"
          ],
          "name": "stdout"
        }
      ]
    },
    {
      "cell_type": "code",
      "metadata": {
        "id": "6pwZ8U5y-2zL",
        "colab_type": "code",
        "colab": {
          "base_uri": "https://localhost:8080/",
          "height": 34
        },
        "outputId": "24892b36-b8bd-4e07-918d-8b8f4b6e084c"
      },
      "source": [
        "Up3_c2=tf.keras.layers.Conv2D(128,3, activation='relu')(Up3_c1)\n",
        "print(Up3_c2.shape)\n"
      ],
      "execution_count": 92,
      "outputs": [
        {
          "output_type": "stream",
          "text": [
            "(None, 196, 196, 128)\n"
          ],
          "name": "stdout"
        }
      ]
    },
    {
      "cell_type": "code",
      "metadata": {
        "id": "U7RBD1TX-9Rq",
        "colab_type": "code",
        "colab": {
          "base_uri": "https://localhost:8080/",
          "height": 34
        },
        "outputId": "766b0a69-f384-4cc4-d45c-a8e6116d5cea"
      },
      "source": [
        "up_4=tf.keras.layers.Conv2DTranspose(64,kernel_size=(2,2),strides=(2,2),padding='same')(Up3_c2)\n",
        "print(up_4.shape)"
      ],
      "execution_count": 93,
      "outputs": [
        {
          "output_type": "stream",
          "text": [
            "(None, 392, 392, 64)\n"
          ],
          "name": "stdout"
        }
      ]
    },
    {
      "cell_type": "code",
      "metadata": {
        "id": "M23_3Es6_DCZ",
        "colab_type": "code",
        "colab": {
          "base_uri": "https://localhost:8080/",
          "height": 34
        },
        "outputId": "d2cd5ea1-1589-418c-b5be-3910ed75e2c2"
      },
      "source": [
        "ch, cw = get_crop_shape(C2, up_4)\n",
        "crop_C2 = tf.keras.layers.Cropping2D(cropping=(ch,cw))(C2)\n",
        "print(crop_C2.shape)\n"
      ],
      "execution_count": 94,
      "outputs": [
        {
          "output_type": "stream",
          "text": [
            "(None, 392, 392, 64)\n"
          ],
          "name": "stdout"
        }
      ]
    },
    {
      "cell_type": "code",
      "metadata": {
        "id": "ixJzlRNt_KzN",
        "colab_type": "code",
        "colab": {
          "base_uri": "https://localhost:8080/",
          "height": 34
        },
        "outputId": "ecac1bce-d90d-477e-b037-5c9ec9686a10"
      },
      "source": [
        "ConCat4=tf.keras.layers.Concatenate()([crop_C2,up_4])\n",
        "print(ConCat4.shape)"
      ],
      "execution_count": 95,
      "outputs": [
        {
          "output_type": "stream",
          "text": [
            "(None, 392, 392, 128)\n"
          ],
          "name": "stdout"
        }
      ]
    },
    {
      "cell_type": "code",
      "metadata": {
        "id": "VSaEFotX_QpT",
        "colab_type": "code",
        "colab": {
          "base_uri": "https://localhost:8080/",
          "height": 34
        },
        "outputId": "c1b9c494-0143-484d-dae7-d07869f59f06"
      },
      "source": [
        "Up4_c1=tf.keras.layers.Conv2D(64,3,activation='relu')(ConCat4)\n",
        "print(Up4_c1.shape)"
      ],
      "execution_count": 96,
      "outputs": [
        {
          "output_type": "stream",
          "text": [
            "(None, 390, 390, 64)\n"
          ],
          "name": "stdout"
        }
      ]
    },
    {
      "cell_type": "code",
      "metadata": {
        "id": "VNCRhYmQ_VVc",
        "colab_type": "code",
        "colab": {
          "base_uri": "https://localhost:8080/",
          "height": 34
        },
        "outputId": "39fcacf9-ac40-4fe9-fc1f-e5e60eb1617b"
      },
      "source": [
        "Up4_c2=tf.keras.layers.Conv2D(64,3,activation='relu')(Up4_c1)\n",
        "print(Up4_c2.shape)"
      ],
      "execution_count": 97,
      "outputs": [
        {
          "output_type": "stream",
          "text": [
            "(None, 388, 388, 64)\n"
          ],
          "name": "stdout"
        }
      ]
    },
    {
      "cell_type": "code",
      "metadata": {
        "id": "d0zKi7XW_dEs",
        "colab_type": "code",
        "colab": {
          "base_uri": "https://localhost:8080/",
          "height": 34
        },
        "outputId": "cb9cd052-79ef-4b52-d010-d5335952741c"
      },
      "source": [
        "c_1x1=tf.keras.layers.Conv2D(1,1,activation='softmax',padding='same')(Up4_c2)\n",
        "print(c_1x1.shape)"
      ],
      "execution_count": 51,
      "outputs": [
        {
          "output_type": "stream",
          "text": [
            "(None, 388, 388, 1)\n"
          ],
          "name": "stdout"
        }
      ]
    }
  ]
}